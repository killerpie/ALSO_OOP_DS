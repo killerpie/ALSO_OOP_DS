'''R-1.1 Write a short Python function, is multiple(n, m), that takes two integer values and returns True if n is a multiple of m, that is,n = mi for some integer i, andFalse otherwise. '''

def is_multiple (n,m):
	if n%m == 0:
		return True
	else:
		return False
   
'''R-1.2 Write a short Python function, is even(k), that takes an integer value and returns True if k is even, and False otherwise. However, your function cannot use the multiplication, modulo, or division operators.'''

  def is_even(k):
	k = abs(k)
	while k > 0:
		k -= 2
	if k == 0:
		return True
	else:
		return False
	
'''R-1.3 Write a short Python function, minmax(data), that takes a sequence of one or more numbers, and returns the smallest and largest numbers, in the form of a tuple of length two. Do not use the built-in functions min or max in implementing your solution.'''

def minmax(data):
  data1 = sorted(data)
  return ('min = ' + str(data1[0]),'max = ' + str(data1[-1]))
  
 '''R-1.4 Write a short Python function that takes a positive integer n and returns the sum of the squares of all the positive integers smaller than n'''

 def sum_sqr(n):
  sum = 0
  for num in range(n):
    sum += num*num
    print (num,n,sum)
  return sum
  
 '''R-1.5 Give a single command that computes the sum from Exercise R-1.4, relying on Python’s comprehension syntax and the built-in sum function.'''

def sum_sqr1(n):
 return sum(num*num for num in range(n))
 
 '''R-1.6 Write a short Python function that takes a positive integer n and returns the sum of the squares of all the odd positive integers smaller than n.'''
 
 def sum_odd_sqr(n):
  sum = 0
  for i in range (n):
    if i % 2 != 0:
      sum += (i*i)
  return sum
  
  '''R-1.7 Give a single command that computes the sum from Exercise R-1.6, relying on Python’s comprehension syntax and the built-in sum functio'''
  
  def sum_odd_sqr1(n):
   return sum(i*i for i in range (n) if i % 2 != 0)
 
'''R-1.8 Python allows negative integers to be used as indices into a sequence, such as a string. If string s has length n, and expression s[k] is used for index−n≤k<0,whatistheequivalent index j≥0such thats[j]references the same element?'''

n >= j >= 0

'''R-1.9 What parameters should be sent to the range constructor, to produce a range with values 50, 60, 70, 80?'''
range(50,81,10)

'''R-1.10 What parameters should be sent to the range constructor, to produce a range with values 8, 6, 4, 2, 0,−2,−4,−6,−8'''
range(8,-9,-2)

'''R-1.11 Demonstrate how to use Python’s list comprehension syntax to produce the list [1, 2, 4, 8, 16, 32, 64, 128, 256].'''


 
